{
  "cells": [
    {
      "cell_type": "markdown",
      "metadata": {
        "id": "M2-Iaei27wbl"
      },
      "source": []
    },
    {
      "cell_type": "markdown",
      "metadata": {
        "id": "7iF71WHU7xjj"
      },
      "source": [
        "# Índice\n",
        "\n",
        "1. Issues\n",
        "2. Pull Request\n",
        "3. Gestión de proyectos con GitHub Projects\n",
        "4. Automatización de flujos de trabajos con GitHub Projects\n",
        "5. Uso de GitHub Gists\n",
        "6. Publicación de sitios web con GitHub Pages\n",
        "7. GitHub Codespaces\n",
        "8. GitHub Dev Editor\n",
        "\n",
        "## Issues\n",
        "Contenido sobre Issues...\n",
        "\n",
        "## Pull Request\n",
        "Contenido sobre Pull Request...\n",
        "\n",
        "## Gestión de proyectos con GitHub Projects\n",
        "Contenido sobre Gestión de proyectos con GitHub Projects...\n",
        "\n",
        "## Automatización de flujos de trabajos con GitHub Projects\n",
        "Contenido sobre Automatización de flujos de trabajos con GitHub Projects...\n",
        "\n",
        "## Uso de GitHub Gists\n",
        "Contenido sobre Uso de GitHub Gists...\n",
        "\n",
        "## Publicación de sitios web con GitHub Pages\n",
        "Contenido sobre Publicación de sitios web con GitHub Pages...\n",
        "\n",
        "## GitHub Codespaces\n",
        "Contenido sobre GitHub Codespaces...\n",
        "\n",
        "## GitHub Dev Editor\n",
        "Contenido sobre GitHub Dev Editor...\n"
      ]
    }
  ],
  "metadata": {
    "colab": {
      "provenance": []
    },
    "kernelspec": {
      "display_name": "Python 3",
      "name": "python3"
    },
    "language_info": {
      "name": "python"
    }
  },
  "nbformat": 4,
  "nbformat_minor": 0
}
