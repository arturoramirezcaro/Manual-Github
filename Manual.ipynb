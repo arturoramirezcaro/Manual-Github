{
  "nbformat": 4,
  "nbformat_minor": 0,
  "metadata": {
    "colab": {
      "provenance": []
    },
    "kernelspec": {
      "name": "python3",
      "display_name": "Python 3"
    },
    "language_info": {
      "name": "python"
    }
  },
  "cells": [
    {
      "cell_type": "markdown",
      "source": [],
      "metadata": {
        "id": "M2-Iaei27wbl"
      }
    },
    {
      "cell_type": "markdown",
      "source": [
        "Aqui escribiremos :)"
      ],
      "metadata": {
        "id": "7iF71WHU7xjj"
      }
    }
  ]
}